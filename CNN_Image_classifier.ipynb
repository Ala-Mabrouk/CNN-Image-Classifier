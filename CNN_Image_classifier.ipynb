{
  "cells": [
    {
      "cell_type": "code",
      "execution_count": null,
      "metadata": {
        "id": "FpPmYP1yxNPo"
      },
      "outputs": [
        {
          "ename": "",
          "evalue": "",
          "output_type": "error",
          "traceback": [
            "\u001b[1;31mThe Kernel crashed while executing code in the the current cell or a previous cell. Please review the code in the cell(s) to identify a possible cause of the failure. Click <a href='https://aka.ms/vscodeJupyterKernelCrash'>here</a> for more info. View Jupyter <a href='command:jupyter.viewOutput'>log</a> for further details."
          ]
        }
      ],
      "source": [
        "import tensorflow as tf\n",
        "\n",
        "from keras import models\n",
        "from keras import layers\n",
        "from tensorflow.keras.utils import to_categorical\n",
        "from tensorflow.keras.models import Sequential\n",
        "from tensorflow.keras.layers import Conv2D\n",
        "from tensorflow.keras.layers import MaxPooling2D\n",
        "from tensorflow.keras.layers import Dense\n",
        "from tensorflow.keras.layers import Flatten\n",
        "\n",
        "from tensorflow.keras.preprocessing.image import ImageDataGenerator\n",
        "\n",
        "from sklearn.model_selection import train_test_split\n"
      ]
    },
    {
      "cell_type": "code",
      "execution_count": null,
      "metadata": {
        "colab": {
          "base_uri": "https://localhost:8080/"
        },
        "id": "n3jp8ATt9c4E",
        "outputId": "e3594dfb-9701-454c-fed9-2de2fd36b8fd"
      },
      "outputs": [
        {
          "name": "stdout",
          "output_type": "stream",
          "text": [
            "Found 5228 images belonging to 3 classes.\n"
          ]
        }
      ],
      "source": [
        "# the path to dataset\n",
        "dataset_dir = 'C:\\\\Users\\\\sahar\\\\Desktop\\\\IA\\\\Data\\\\3IDL_Dataset'\n",
        "\n",
        "# Set up a data generator with image augmentation for training\n",
        "datagen = ImageDataGenerator(\n",
        "    rescale=1./255,      # Normalize pixel values to be between 0 and 1\n",
        "    shear_range=0.2,     # Shear transformations\n",
        "    zoom_range=0.2,      # Zoom transformations\n",
        "    horizontal_flip=False # Randomly flip images horizontally\n",
        "    validation_split=0.2 # Randomly flip images horizontally\n",
        "\n",
        ")\n",
        "\n",
        "# Define the batch size (number of samples per gradient update)\n",
        "batch_size = 64\n",
        "\n",
        "# Flow training images in batches using the datagen generator\n",
        "train_generator = datagen.flow_from_directory(\n",
        "    dataset_dir,\n",
        "    target_size=(256, 256), # Resize images to a consistent size\n",
        "    batch_size=batch_size,\n",
        "    class_mode='categorical',\n",
        "    shuffle=True,\n",
        "    subset='training'  # Use 'binary' for binary classification or 'categorical' for multi-class\n",
        ")\n",
        "test_generator = datagen.flow_from_directory(\n",
        "    dataset_dir,\n",
        "    target_size=(256, 256), # Resize images to a consistent size\n",
        "    batch_size=batch_size,\n",
        "    class_mode='categorical',\n",
        "    shuffle=False,\n",
        "    subset='validation'\n",
        "    )"
      ]
    },
    {
      "cell_type": "code",
      "execution_count": null,
      "metadata": {
        "colab": {
          "base_uri": "https://localhost:8080/"
        },
        "id": "DnQJqGK9CNp2",
        "outputId": "d5134953-9bdb-4b6b-b90c-f81cbf08b2a4"
      },
      "outputs": [
        {
          "name": "stdout",
          "output_type": "stream",
          "text": [
            "Number of training samples: 1\n",
            "Number of batches per epoch: 1\n",
            "Number of classes: 1\n",
            "Class labels: <keras.src.preprocessing.image.NumpyArrayIterator object at 0x000001B65E9E9970>\n"
          ]
        }
      ],
      "source": [
        "print(\"Number of training samples:\", len(train_generator))\n",
        "print(\"Number of batches per epoch:\", len(train_generator))\n",
        "print(\"Number of classes:\", len(train_generator))\n",
        "print(\"Class labels:\", train_generator)"
      ]
    },
    {
      "cell_type": "code",
      "execution_count": null,
      "metadata": {
        "id": "r03eTA8vxQ4_"
      },
      "outputs": [],
      "source": [
        "model = Sequential()\n",
        "model.add(Conv2D(32, (3, 3), activation='relu',kernel_initializer='he_uniform',input_shape=(256, 256, 3)))\n",
        "model.add(MaxPooling2D((2, 2)))"
      ]
    },
    {
      "cell_type": "code",
      "execution_count": null,
      "metadata": {
        "id": "uk_bL9HAM8Dz"
      },
      "outputs": [],
      "source": [
        "model.add(Conv2D(64, (5, 5), activation='relu', kernel_initializer='he_uniform'))\n",
        "model.add(MaxPooling2D((2, 2)))"
      ]
    },
    {
      "cell_type": "code",
      "execution_count": null,
      "metadata": {
        "id": "iKhCPdefNdCq"
      },
      "outputs": [],
      "source": [
        "model.add(Flatten())\n"
      ]
    },
    {
      "cell_type": "code",
      "execution_count": null,
      "metadata": {
        "id": "wUpeyOsrxcI6"
      },
      "outputs": [],
      "source": [
        "model.add(Dense(256, activation='relu', kernel_initializer='he_uniform'))\n",
        "model.add(Dense(128, activation='relu', kernel_initializer='he_uniform'))\n",
        "model.add(Dense(3, activation='softmax'))"
      ]
    },
    {
      "cell_type": "code",
      "execution_count": null,
      "metadata": {
        "id": "hFQvKei5xevz"
      },
      "outputs": [],
      "source": [
        "model.compile(\n",
        "    optimizer=tf.keras.optimizers.Adam(0.0001),\n",
        "    loss='categorical_crossentropy',\n",
        "    metrics=['categorical_accuracy']\n",
        ")\n"
      ]
    },
    {
      "cell_type": "code",
      "execution_count": null,
      "metadata": {
        "colab": {
          "base_uri": "https://localhost:8080/"
        },
        "id": "oLI-waQZIWF3",
        "outputId": "7f4878a9-ffd4-41a8-b954-ea882c793434"
      },
      "outputs": [
        {
          "name": "stdout",
          "output_type": "stream",
          "text": [
            "Model: \"sequential_2\"\n",
            "_________________________________________________________________\n",
            " Layer (type)                Output Shape              Param #   \n",
            "=================================================================\n",
            " conv2d_6 (Conv2D)           (None, 254, 254, 32)      896       \n",
            "                                                                 \n",
            " max_pooling2d_6 (MaxPoolin  (None, 127, 127, 32)      0         \n",
            " g2D)                                                            \n",
            "                                                                 \n",
            " conv2d_7 (Conv2D)           (None, 123, 123, 64)      51264     \n",
            "                                                                 \n",
            " max_pooling2d_7 (MaxPoolin  (None, 61, 61, 64)        0         \n",
            " g2D)                                                            \n",
            "                                                                 \n",
            " conv2d_8 (Conv2D)           (None, 55, 55, 128)       401536    \n",
            "                                                                 \n",
            " max_pooling2d_8 (MaxPoolin  (None, 27, 27, 128)       0         \n",
            " g2D)                                                            \n",
            "                                                                 \n",
            " flatten_2 (Flatten)         (None, 93312)             0         \n",
            "                                                                 \n",
            " dense_6 (Dense)             (None, 256)               23888128  \n",
            "                                                                 \n",
            " dense_7 (Dense)             (None, 128)               32896     \n",
            "                                                                 \n",
            " dense_8 (Dense)             (None, 3)                 387       \n",
            "                                                                 \n",
            "=================================================================\n",
            "Total params: 24375107 (92.98 MB)\n",
            "Trainable params: 24375107 (92.98 MB)\n",
            "Non-trainable params: 0 (0.00 Byte)\n",
            "_________________________________________________________________\n"
          ]
        }
      ],
      "source": [
        "# Print a summary of your model architecture\n",
        "model.summary()\n"
      ]
    },
    {
      "cell_type": "code",
      "execution_count": null,
      "metadata": {
        "colab": {
          "base_uri": "https://localhost:8080/",
          "height": 1000
        },
        "id": "KYQcz5jgFbrJ",
        "outputId": "d7418c6b-6781-42d3-b6d6-61952aafcc99"
      },
      "outputs": [
        {
          "ename": "AttributeError",
          "evalue": "'NumpyArrayIterator' object has no attribute 'samples'",
          "output_type": "error",
          "traceback": [
            "\u001b[1;31m---------------------------------------------------------------------------\u001b[0m",
            "\u001b[1;31mAttributeError\u001b[0m                            Traceback (most recent call last)",
            "\u001b[1;32mc:\\Users\\sahar\\Desktop\\IA\\CNN_Image_classifier (1).ipynb Cell 11\u001b[0m line \u001b[0;36m3\n\u001b[0;32m      <a href='vscode-notebook-cell:/c%3A/Users/sahar/Desktop/IA/CNN_Image_classifier%20%281%29.ipynb#X13sZmlsZQ%3D%3D?line=0'>1</a>\u001b[0m model\u001b[39m.\u001b[39mfit(\n\u001b[0;32m      <a href='vscode-notebook-cell:/c%3A/Users/sahar/Desktop/IA/CNN_Image_classifier%20%281%29.ipynb#X13sZmlsZQ%3D%3D?line=1'>2</a>\u001b[0m     train_generator,\n\u001b[1;32m----> <a href='vscode-notebook-cell:/c%3A/Users/sahar/Desktop/IA/CNN_Image_classifier%20%281%29.ipynb#X13sZmlsZQ%3D%3D?line=2'>3</a>\u001b[0m     steps_per_epoch\u001b[39m=\u001b[39mtrain_generator\u001b[39m.\u001b[39;49msamples \u001b[39m/\u001b[39m\u001b[39m/\u001b[39m batch_size,\n\u001b[0;32m      <a href='vscode-notebook-cell:/c%3A/Users/sahar/Desktop/IA/CNN_Image_classifier%20%281%29.ipynb#X13sZmlsZQ%3D%3D?line=3'>4</a>\u001b[0m     epochs\u001b[39m=\u001b[39m\u001b[39m5\u001b[39m,\n\u001b[0;32m      <a href='vscode-notebook-cell:/c%3A/Users/sahar/Desktop/IA/CNN_Image_classifier%20%281%29.ipynb#X13sZmlsZQ%3D%3D?line=4'>5</a>\u001b[0m )\n",
            "\u001b[1;31mAttributeError\u001b[0m: 'NumpyArrayIterator' object has no attribute 'samples'"
          ]
        }
      ],
      "source": [
        "model.fit(\n",
        "    train_generator,\n",
        "    steps_per_epoch=train_generator.samples // batch_size,\n",
        "    epochs=5,\n",
        ")"
      ]
    },
    {
      "cell_type": "code",
      "execution_count": null,
      "metadata": {},
      "outputs": [
        {
          "ename": "ValueError",
          "evalue": "Asked to retrieve element 0, but the Sequence has length 0",
          "output_type": "error",
          "traceback": [
            "\u001b[1;31m---------------------------------------------------------------------------\u001b[0m",
            "\u001b[1;31mValueError\u001b[0m                                Traceback (most recent call last)",
            "\u001b[1;32mc:\\Users\\sahar\\Desktop\\IA\\CNN_Image_classifier (1).ipynb Cell 12\u001b[0m line \u001b[0;36m6\n\u001b[0;32m      <a href='vscode-notebook-cell:/c%3A/Users/sahar/Desktop/IA/CNN_Image_classifier%20%281%29.ipynb#X15sZmlsZQ%3D%3D?line=0'>1</a>\u001b[0m \u001b[39mfrom\u001b[39;00m \u001b[39msklearn\u001b[39;00m\u001b[39m.\u001b[39;00m\u001b[39mmetrics\u001b[39;00m \u001b[39mimport\u001b[39;00m classification_report, confusion_matrix\n\u001b[0;32m      <a href='vscode-notebook-cell:/c%3A/Users/sahar/Desktop/IA/CNN_Image_classifier%20%281%29.ipynb#X15sZmlsZQ%3D%3D?line=2'>3</a>\u001b[0m \u001b[39m# ... (your model training code)\u001b[39;00m\n\u001b[0;32m      <a href='vscode-notebook-cell:/c%3A/Users/sahar/Desktop/IA/CNN_Image_classifier%20%281%29.ipynb#X15sZmlsZQ%3D%3D?line=3'>4</a>\u001b[0m \n\u001b[0;32m      <a href='vscode-notebook-cell:/c%3A/Users/sahar/Desktop/IA/CNN_Image_classifier%20%281%29.ipynb#X15sZmlsZQ%3D%3D?line=4'>5</a>\u001b[0m \u001b[39m# Evaluate the model on the validation set\u001b[39;00m\n\u001b[1;32m----> <a href='vscode-notebook-cell:/c%3A/Users/sahar/Desktop/IA/CNN_Image_classifier%20%281%29.ipynb#X15sZmlsZQ%3D%3D?line=5'>6</a>\u001b[0m validation_loss, validation_accuracy \u001b[39m=\u001b[39m model\u001b[39m.\u001b[39;49mevaluate(test_generator)\n\u001b[0;32m      <a href='vscode-notebook-cell:/c%3A/Users/sahar/Desktop/IA/CNN_Image_classifier%20%281%29.ipynb#X15sZmlsZQ%3D%3D?line=6'>7</a>\u001b[0m \u001b[39mprint\u001b[39m(\u001b[39m\"\u001b[39m\u001b[39mValidation Accuracy:\u001b[39m\u001b[39m\"\u001b[39m, validation_accuracy)\n\u001b[0;32m      <a href='vscode-notebook-cell:/c%3A/Users/sahar/Desktop/IA/CNN_Image_classifier%20%281%29.ipynb#X15sZmlsZQ%3D%3D?line=8'>9</a>\u001b[0m \u001b[39m# Get predictions on the validation set\u001b[39;00m\n",
            "File \u001b[1;32mc:\\Users\\sahar\\AppData\\Local\\Programs\\Python\\Python38\\lib\\site-packages\\keras\\src\\utils\\traceback_utils.py:70\u001b[0m, in \u001b[0;36mfilter_traceback.<locals>.error_handler\u001b[1;34m(*args, **kwargs)\u001b[0m\n\u001b[0;32m     67\u001b[0m     filtered_tb \u001b[39m=\u001b[39m _process_traceback_frames(e\u001b[39m.\u001b[39m__traceback__)\n\u001b[0;32m     68\u001b[0m     \u001b[39m# To get the full stack trace, call:\u001b[39;00m\n\u001b[0;32m     69\u001b[0m     \u001b[39m# `tf.debugging.disable_traceback_filtering()`\u001b[39;00m\n\u001b[1;32m---> 70\u001b[0m     \u001b[39mraise\u001b[39;00m e\u001b[39m.\u001b[39mwith_traceback(filtered_tb) \u001b[39mfrom\u001b[39;00m \u001b[39mNone\u001b[39;00m\n\u001b[0;32m     71\u001b[0m \u001b[39mfinally\u001b[39;00m:\n\u001b[0;32m     72\u001b[0m     \u001b[39mdel\u001b[39;00m filtered_tb\n",
            "File \u001b[1;32mc:\\Users\\sahar\\AppData\\Local\\Programs\\Python\\Python38\\lib\\site-packages\\keras\\src\\preprocessing\\image.py:103\u001b[0m, in \u001b[0;36mIterator.__getitem__\u001b[1;34m(self, idx)\u001b[0m\n\u001b[0;32m    101\u001b[0m \u001b[39mdef\u001b[39;00m \u001b[39m__getitem__\u001b[39m(\u001b[39mself\u001b[39m, idx):\n\u001b[0;32m    102\u001b[0m     \u001b[39mif\u001b[39;00m idx \u001b[39m>\u001b[39m\u001b[39m=\u001b[39m \u001b[39mlen\u001b[39m(\u001b[39mself\u001b[39m):\n\u001b[1;32m--> 103\u001b[0m         \u001b[39mraise\u001b[39;00m \u001b[39mValueError\u001b[39;00m(\n\u001b[0;32m    104\u001b[0m             \u001b[39m\"\u001b[39m\u001b[39mAsked to retrieve element \u001b[39m\u001b[39m{idx}\u001b[39;00m\u001b[39m, \u001b[39m\u001b[39m\"\u001b[39m\n\u001b[0;32m    105\u001b[0m             \u001b[39m\"\u001b[39m\u001b[39mbut the Sequence \u001b[39m\u001b[39m\"\u001b[39m\n\u001b[0;32m    106\u001b[0m             \u001b[39m\"\u001b[39m\u001b[39mhas length \u001b[39m\u001b[39m{length}\u001b[39;00m\u001b[39m\"\u001b[39m\u001b[39m.\u001b[39mformat(idx\u001b[39m=\u001b[39midx, length\u001b[39m=\u001b[39m\u001b[39mlen\u001b[39m(\u001b[39mself\u001b[39m))\n\u001b[0;32m    107\u001b[0m         )\n\u001b[0;32m    108\u001b[0m     \u001b[39mif\u001b[39;00m \u001b[39mself\u001b[39m\u001b[39m.\u001b[39mseed \u001b[39mis\u001b[39;00m \u001b[39mnot\u001b[39;00m \u001b[39mNone\u001b[39;00m:\n\u001b[0;32m    109\u001b[0m         np\u001b[39m.\u001b[39mrandom\u001b[39m.\u001b[39mseed(\u001b[39mself\u001b[39m\u001b[39m.\u001b[39mseed \u001b[39m+\u001b[39m \u001b[39mself\u001b[39m\u001b[39m.\u001b[39mtotal_batches_seen)\n",
            "\u001b[1;31mValueError\u001b[0m: Asked to retrieve element 0, but the Sequence has length 0"
          ]
        }
      ],
      "source": [
        "from sklearn.metrics import classification_report, confusion_matrix\n",
        "\n",
        "# ... (your model training code)\n",
        "\n",
        "# Evaluate the model on the validation set\n",
        "validation_loss, validation_accuracy = model.evaluate(test_generator)\n",
        "print(\"Validation Accuracy:\", validation_accuracy)\n",
        "\n",
        "# Get predictions on the validation set\n",
        "y_pred = model.predict(test_generator)\n",
        "y_true = test_generator.classes\n",
        "\n",
        "# Generate a confusion matrix\n",
        "conf_matrix = confusion_matrix(y_true, y_pred.argmax(axis=1))\n",
        "\n",
        "# Print classification report\n",
        "print(\"Classification Report:\")\n",
        "print(classification_report(y_true, y_pred.argmax(axis=1)))\n",
        "\n",
        "# Print confusion matrix\n",
        "print(\"Confusion Matrix:\")\n",
        "print(conf_matrix)"
      ]
    },
    {
      "cell_type": "code",
      "execution_count": null,
      "metadata": {
        "id": "c4H0wW98FIh3"
      },
      "outputs": [
        {
          "ename": "NameError",
          "evalue": "name 'test_generator' is not defined",
          "output_type": "error",
          "traceback": [
            "\u001b[1;31m---------------------------------------------------------------------------\u001b[0m",
            "\u001b[1;31mNameError\u001b[0m                                 Traceback (most recent call last)",
            "\u001b[1;32mc:\\Users\\sahar\\Desktop\\IA\\CNN_Image_classifier (1).ipynb Cell 12\u001b[0m line \u001b[0;36m3\n\u001b[0;32m      <a href='vscode-notebook-cell:/c%3A/Users/sahar/Desktop/IA/CNN_Image_classifier%20%281%29.ipynb#X14sZmlsZQ%3D%3D?line=0'>1</a>\u001b[0m \u001b[39m# Evaluate the model on the test data\u001b[39;00m\n\u001b[0;32m      <a href='vscode-notebook-cell:/c%3A/Users/sahar/Desktop/IA/CNN_Image_classifier%20%281%29.ipynb#X14sZmlsZQ%3D%3D?line=1'>2</a>\u001b[0m test_loss, test_accuracy \u001b[39m=\u001b[39m model\u001b[39m.\u001b[39mevaluate(\n\u001b[1;32m----> <a href='vscode-notebook-cell:/c%3A/Users/sahar/Desktop/IA/CNN_Image_classifier%20%281%29.ipynb#X14sZmlsZQ%3D%3D?line=2'>3</a>\u001b[0m     test_generator,\n\u001b[0;32m      <a href='vscode-notebook-cell:/c%3A/Users/sahar/Desktop/IA/CNN_Image_classifier%20%281%29.ipynb#X14sZmlsZQ%3D%3D?line=3'>4</a>\u001b[0m     steps\u001b[39m=\u001b[39mtest_generator\u001b[39m.\u001b[39msamples \u001b[39m/\u001b[39m\u001b[39m/\u001b[39m batch_size\n\u001b[0;32m      <a href='vscode-notebook-cell:/c%3A/Users/sahar/Desktop/IA/CNN_Image_classifier%20%281%29.ipynb#X14sZmlsZQ%3D%3D?line=4'>5</a>\u001b[0m )\n\u001b[0;32m      <a href='vscode-notebook-cell:/c%3A/Users/sahar/Desktop/IA/CNN_Image_classifier%20%281%29.ipynb#X14sZmlsZQ%3D%3D?line=6'>7</a>\u001b[0m \u001b[39mprint\u001b[39m(\u001b[39m\"\u001b[39m\u001b[39mTest Loss:\u001b[39m\u001b[39m\"\u001b[39m, test_loss)\n\u001b[0;32m      <a href='vscode-notebook-cell:/c%3A/Users/sahar/Desktop/IA/CNN_Image_classifier%20%281%29.ipynb#X14sZmlsZQ%3D%3D?line=7'>8</a>\u001b[0m \u001b[39mprint\u001b[39m(\u001b[39m\"\u001b[39m\u001b[39mTest Accuracy:\u001b[39m\u001b[39m\"\u001b[39m, test_accuracy)\n",
            "\u001b[1;31mNameError\u001b[0m: name 'test_generator' is not defined"
          ]
        }
      ],
      "source": [
        "# Evaluate the model on the test data\n",
        "test_loss, test_accuracy = model.evaluate(\n",
        "    test_generator,\n",
        "    steps=test_generator.samples // batch_size\n",
        ")\n",
        "\n",
        "print(\"Test Loss:\", test_loss)\n",
        "print(\"Test Accuracy:\", test_accuracy)"
      ]
    }
  ],
  "metadata": {
    "colab": {
      "provenance": []
    },
    "kernelspec": {
      "display_name": "Python 3",
      "name": "python3"
    },
    "language_info": {
      "codemirror_mode": {
        "name": "ipython",
        "version": 3
      },
      "file_extension": ".py",
      "mimetype": "text/x-python",
      "name": "python",
      "nbconvert_exporter": "python",
      "pygments_lexer": "ipython3",
      "version": "3.8.0"
    }
  },
  "nbformat": 4,
  "nbformat_minor": 0
}
